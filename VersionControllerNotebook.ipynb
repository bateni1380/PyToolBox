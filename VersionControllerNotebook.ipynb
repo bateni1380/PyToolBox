{
 "cells": [
  {
   "cell_type": "code",
   "execution_count": 1,
   "id": "f80fc167",
   "metadata": {},
   "outputs": [
    {
     "name": "stdout",
     "output_type": "stream",
     "text": [
      "Help on class VersionController in module pytoolbox.version_controller:\n",
      "\n",
      "class VersionController(builtins.object)\n",
      " |  This class is a version controller like github.\n",
      " |      First of all, you make an instance of the object (vc = VersionController())\n",
      " |      Next you can add variables to vc by adding parameters (vc.x = 100)\n",
      " |      After applying changes, you should use vc.make_check_point() function to save changes.\n",
      " |      Whenever you needed to change version, you can use vc.undo() and vc.redo() functions.\n",
      " |          the parameters of the VersionController object are sync with the version.\n",
      " |      You can use vc.print_verssions() to see all versions variables together.\n",
      " |  \n",
      " |  Methods defined here:\n",
      " |  \n",
      " |  __init__(self)\n",
      " |      You don't need to pass anything to the constructor.\n",
      " |  \n",
      " |  make_check_point(self)\n",
      " |      After you changed VersionController variables (vs.a, vc.b, ...) you must use this\n",
      " |      function in order to commit changes.\n",
      " |  \n",
      " |  print_versions(self)\n",
      " |      This function prints all versions and their variables.\n",
      " |  \n",
      " |  redo(self)\n",
      " |      Use this if you have used undo function and you want to get back to the version before undo.\n",
      " |  \n",
      " |  undo(self)\n",
      " |      Use this if you want to get back to variables of last commit.\n",
      " |  \n",
      " |  ----------------------------------------------------------------------\n",
      " |  Data descriptors defined here:\n",
      " |  \n",
      " |  __dict__\n",
      " |      dictionary for instance variables (if defined)\n",
      " |  \n",
      " |  __weakref__\n",
      " |      list of weak references to the object (if defined)\n",
      "\n"
     ]
    }
   ],
   "source": [
    "from pytoolbox.version_controller import VersionController\n",
    "help(VersionController)"
   ]
  },
  {
   "cell_type": "code",
   "execution_count": 2,
   "id": "bfa183a9",
   "metadata": {},
   "outputs": [
    {
     "name": "stdout",
     "output_type": "stream",
     "text": [
      "version 0: {}\n",
      "+version 1: {'a': 10}\n"
     ]
    }
   ],
   "source": [
    "cph = VersionController()\n",
    "cph.a = 10\n",
    "cph.make_check_point()\n",
    "cph.print_versions()"
   ]
  },
  {
   "cell_type": "code",
   "execution_count": 3,
   "id": "0ba479e8",
   "metadata": {},
   "outputs": [
    {
     "name": "stdout",
     "output_type": "stream",
     "text": [
      "version 0: {}\n",
      "version 1: {'a': 10}\n",
      "+version 2: {'a': 40, 'b': 30}\n"
     ]
    }
   ],
   "source": [
    "cph.a = 20\n",
    "cph.b = 30\n",
    "cph.a = 40\n",
    "cph.make_check_point()\n",
    "cph.print_versions()"
   ]
  },
  {
   "cell_type": "code",
   "execution_count": 4,
   "id": "839f846c",
   "metadata": {},
   "outputs": [
    {
     "name": "stdout",
     "output_type": "stream",
     "text": [
      "version 0: {}\n",
      "+version 1: {'a': 10}\n",
      "version 2: {'a': 40, 'b': 30}\n"
     ]
    }
   ],
   "source": [
    "cph.undo()\n",
    "cph.print_versions()"
   ]
  },
  {
   "cell_type": "code",
   "execution_count": 5,
   "id": "7d230bc7",
   "metadata": {},
   "outputs": [
    {
     "name": "stdout",
     "output_type": "stream",
     "text": [
      "True\n",
      "False\n"
     ]
    }
   ],
   "source": [
    "print('a' in vars(cph))\n",
    "print('b' in vars(cph))"
   ]
  },
  {
   "cell_type": "code",
   "execution_count": 6,
   "id": "1a2b5b12",
   "metadata": {},
   "outputs": [
    {
     "name": "stdout",
     "output_type": "stream",
     "text": [
      "version 0: {}\n",
      "version 1: {'a': 10}\n",
      "+version 2: {'a': 40, 'b': 30}\n"
     ]
    }
   ],
   "source": [
    "cph.redo()\n",
    "cph.print_versions()"
   ]
  },
  {
   "cell_type": "code",
   "execution_count": 7,
   "id": "527293f3",
   "metadata": {},
   "outputs": [
    {
     "name": "stdout",
     "output_type": "stream",
     "text": [
      "True\n",
      "True\n"
     ]
    }
   ],
   "source": [
    "print('a' in vars(cph))\n",
    "print('b' in vars(cph))"
   ]
  },
  {
   "cell_type": "code",
   "execution_count": null,
   "id": "e2b81f2d",
   "metadata": {},
   "outputs": [],
   "source": []
  }
 ],
 "metadata": {
  "kernelspec": {
   "display_name": "Python 3 (ipykernel)",
   "language": "python",
   "name": "python3"
  },
  "language_info": {
   "codemirror_mode": {
    "name": "ipython",
    "version": 3
   },
   "file_extension": ".py",
   "mimetype": "text/x-python",
   "name": "python",
   "nbconvert_exporter": "python",
   "pygments_lexer": "ipython3",
   "version": "3.9.7"
  },
  "vscode": {
   "interpreter": {
    "hash": "7ac50e46548700ef92c0d638c51cf0201997f2d5ebcd38b9e8c620a8099eedcd"
   }
  }
 },
 "nbformat": 4,
 "nbformat_minor": 5
}
