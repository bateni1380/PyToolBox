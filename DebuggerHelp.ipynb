{
 "cells": [
  {
   "cell_type": "code",
   "execution_count": 1,
   "id": "85edc8c1",
   "metadata": {},
   "outputs": [
    {
     "name": "stdout",
     "output_type": "stream",
     "text": [
      "Help on class Debugger in module Debugger:\n",
      "\n",
      "class Debugger(builtins.object)\n",
      " |  Debugger(categories=[], textual_debug: bool = False, visual_debug: bool = False, debug=True, show_file: bool = False, show_line: bool = False)\n",
      " |  \n",
      " |  This class is a class to observe status of the code. \n",
      " |  \n",
      " |  You can create an instance of this class by (debugger = Debugger())\n",
      " |      and whenever you want to print something to see the status of your code, \n",
      " |      you can use debugger.log(description: str) to print status.\n",
      " |  \n",
      " |  This class provides you many tools in order to observe the status of you're program better.\n",
      " |  - 1st, you can print all of your debugging-related logs with debugger.log() and\n",
      " |      you have the ability to turn on/of all of the debugging-related logs by changing\n",
      " |      textual_debug/visual_debug in the line that you instantiated the Debugger object.\n",
      " |  - 2nd, you can see the line/file that the log function has been called by setting\n",
      " |      show_file/show_line parameter's to True in the line that you instantiated the \n",
      " |      Debugger object.\n",
      " |  - 3rd, you can specify categories of each log and categorize log's, then you can \n",
      " |      change categories parameter in constructor to see the related logs.\n",
      " |  - 4th, you can specify processes using log_start and log_end, and then you can\n",
      " |      see the passed time of each process in logs. If you use log_end or log, you will see \n",
      " |      the passed time since last non finished process has started.\n",
      " |  - 5th, you can ilustrate np array images using log_image (for one image) and \n",
      " |      log_images (for multiple images).\n",
      " |  \n",
      " |  Methods defined here:\n",
      " |  \n",
      " |  __del__(self)\n",
      " |  \n",
      " |  __init__(self, categories=[], textual_debug: bool = False, visual_debug: bool = False, debug=True, show_file: bool = False, show_line: bool = False)\n",
      " |      - categories parameter is the tool to categorize your debugging-related logs. you can\n",
      " |          specify some categories here and in log function you can specify some categories too,\n",
      " |          then the log will be printed only if this two set's have some elements in common.\n",
      " |      - debug parameter is the tool to turn of/on all of the logs at one shot.\n",
      " |      - textual_debug parameter is the tool to turn of/on all not visual logs at one shot.\n",
      " |      - visual_debug parameter is the tool to turn of/on all visual logs at one shot.\n",
      " |      - show_file is the tool to show the file that the log funtion is running at in each log.\n",
      " |      - show_line is the tool to show the line that the log funtion is running at in each log.\n",
      " |  \n",
      " |  log(self, desc: str, categories: Iterable[str] = [])\n",
      " |      You can use this function to log an event in console.\n",
      " |      You just have two parameters here. desc is the description\n",
      " |          of your event and categories is the list of events, that\n",
      " |          this log is related to (then you can set categories parameter\n",
      " |          in constructor to see every log from some specific categories)\n",
      " |      - desc is the description of the log.\n",
      " |      - categories is a list or set of some strings that specifies the\n",
      " |          categories that this log belong's to them.\n",
      " |  \n",
      " |  log_end(self, categories: Iterable[str] = [])\n",
      " |      This funtion is like a simple log but here, you are specifying that\n",
      " |          last process has been ended. We don't have any description as \n",
      " |          you see the description of the process that have been ended.\n",
      " |      - categories is like categories in log function.\n",
      " |  \n",
      " |  log_image(self, desc: str, image: numpy.ndarray, categories: Iterable[str] = [])\n",
      " |      This funtion is like a simple log but here, you show some picture too.\n",
      " |      - desc is the title of the image.\n",
      " |      - image is the image that you want to show as a np array format.\n",
      " |      - categories is like categories in log function.\n",
      " |  \n",
      " |  log_images(self, images: List[numpy.ndarray], descs: List[str] = None, dim: Tuple = None, categories: Iterable[str] = [])\n",
      " |      This funtion is like a simple log but here, you feed some pictures as\n",
      " |          a list of np arrays.\n",
      " |      - images is the list of np arrays.\n",
      " |      - descs is title of those images.\n",
      " |      - dim is dimentions of the grid that you want to see the pictures in it (by default,\n",
      " |          log_images show the images in a 1-row grid)\n",
      " |      - categories is like categories in log function.\n",
      " |  \n",
      " |  log_start(self, desc: str, categories: Iterable[str] = [])\n",
      " |      This funtion is like a simple log but here, you are specifying that\n",
      " |          some process has been started. Then you see passed time of all logs after \n",
      " |          that, with respect to this log.\n",
      " |      - desc is the description of the log.\n",
      " |      - categories is like categories in log function.\n",
      " |  \n",
      " |  ----------------------------------------------------------------------\n",
      " |  Data descriptors defined here:\n",
      " |  \n",
      " |  __dict__\n",
      " |      dictionary for instance variables (if defined)\n",
      " |  \n",
      " |  __weakref__\n",
      " |      list of weak references to the object (if defined)\n",
      "\n"
     ]
    }
   ],
   "source": [
    "from PyToolBox import Debugger\n",
    "help(Debugger)"
   ]
  },
  {
   "attachments": {},
   "cell_type": "markdown",
   "id": "619c012d",
   "metadata": {},
   "source": [
    "In this example we used log_start and log and log_end\n",
    "you can see that if you set show_line to True, you get line numbers in each log."
   ]
  },
  {
   "cell_type": "code",
   "execution_count": 2,
   "id": "b8336401",
   "metadata": {},
   "outputs": [
    {
     "name": "stdout",
     "output_type": "stream",
     "text": [
      "[line 2] Debugger init started \n",
      "\t[line 3] PHASE1 started \n",
      "\t\t[line 5] PHASE2 time = 0.0430\n",
      "\t\t[line 7] PHASE3 time = 0.1530\n",
      "\t[line 8] PHASE1 ended time = 0.1590\n",
      "[line 9] Debugger init ended time = 0.1700\n"
     ]
    }
   ],
   "source": [
    "from PyToolBox import Debugger\n",
    "debugger = Debugger(textual_debug=True, show_file=False, show_line=True)\n",
    "debugger.log_start('PHASE1')\n",
    "a = [i for i in range(1000000)]\n",
    "debugger.log('PHASE2')      \n",
    "b = [i for i in range(3000000)]\n",
    "debugger.log('PHASE3')\n",
    "debugger.log_end()\n",
    "del debugger"
   ]
  },
  {
   "attachments": {},
   "cell_type": "markdown",
   "id": "0ae9a798",
   "metadata": {},
   "source": [
    "Here is an example of how to use categories option.\n",
    "you can see that if you set categories to [] it means every category."
   ]
  },
  {
   "cell_type": "code",
   "execution_count": 3,
   "id": "d86d7a3a",
   "metadata": {},
   "outputs": [
    {
     "name": "stdout",
     "output_type": "stream",
     "text": [
      " Debugger init started \n",
      "\t PHASE1 time = 0.0070\n",
      "\t PHASE4 time = 0.0230\n",
      " Debugger init ended time = 0.0290\n"
     ]
    }
   ],
   "source": [
    "debugger = Debugger(textual_debug=True, categories=['a'])\n",
    "debugger.log('PHASE1', categories=['a'])\n",
    "debugger.log('PHASE2', categories=['a,b'])\n",
    "debugger.log('PHASE3', categories=['b'])\n",
    "debugger.log('PHASE4', categories=[]) # [] equals to Any\n",
    "del debugger"
   ]
  },
  {
   "attachments": {},
   "cell_type": "markdown",
   "id": "42362ea2",
   "metadata": {},
   "source": [
    "Here is the proof that the Debugger object dont do anything if debog=False so it can remain in your program after debugging."
   ]
  },
  {
   "cell_type": "code",
   "execution_count": 4,
   "id": "392c00ed",
   "metadata": {},
   "outputs": [
    {
     "name": "stdout",
     "output_type": "stream",
     "text": [
      "0.0\n"
     ]
    }
   ],
   "source": [
    "import time\n",
    "debugger = Debugger(debug=False, textual_debug=True, show_file=True, show_line=True)\n",
    "st_time = time.time()\n",
    "debugger.log('PHASE1')\n",
    "debugger.log('PHASE2')\n",
    "debugger.log('PHASE3')\n",
    "debugger.log('PHASE4')\n",
    "debugger.log('PHASE5')\n",
    "debugger.log('PHASE6')\n",
    "debugger.log('PHASE7')\n",
    "debugger.log('PHASE8')\n",
    "debugger.log('PHASE9')\n",
    "del debugger\n",
    "print(st_time-time.time())"
   ]
  }
 ],
 "metadata": {
  "kernelspec": {
   "display_name": "Python 3.9.7 ('tf')",
   "language": "python",
   "name": "python3"
  },
  "language_info": {
   "codemirror_mode": {
    "name": "ipython",
    "version": 3
   },
   "file_extension": ".py",
   "mimetype": "text/x-python",
   "name": "python",
   "nbconvert_exporter": "python",
   "pygments_lexer": "ipython3",
   "version": "3.9.7"
  },
  "vscode": {
   "interpreter": {
    "hash": "7ac50e46548700ef92c0d638c51cf0201997f2d5ebcd38b9e8c620a8099eedcd"
   }
  }
 },
 "nbformat": 4,
 "nbformat_minor": 5
}
