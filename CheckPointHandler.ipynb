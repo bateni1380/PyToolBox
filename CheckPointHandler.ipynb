{
 "cells": [
  {
   "cell_type": "code",
   "execution_count": 102,
   "id": "2cf17e4a",
   "metadata": {},
   "outputs": [],
   "source": [
    "\n",
    "class CheckPointHandler:\n",
    "    def __init__(self, **pars):\n",
    "        self.version_num = 0\n",
    "        self.history = [{}]\n",
    "        if len(pars) > 0:\n",
    "            self.add_vars(**pars)\n",
    "            \n",
    "    def make_check_point(self):    \n",
    "        # Erase checkpoints after this checkpoint (as we don't remember every branch.)\n",
    "        while self.version_num+1 < len(self.history):\n",
    "            self.history.pop()\n",
    "        # Make a dictionary (based on the variables that exist in current instance)\n",
    "        base_version = self.__make_version()\n",
    "        # Append the version to end of our history (current version is the last as we have deleted the remaining part's of history)\n",
    "        self.history.append(base_version)\n",
    "        # Change the version and update the class parameters\n",
    "        self.__change_version(self.version_num, self.version_num+1)\n",
    "    \n",
    "    def add_vars(self, **pars):\n",
    "        # Erase checkpoints after this checkpoint (as we don't remember every branch.)\n",
    "        while self.version_num+1 < len(self.history):\n",
    "            self.history.pop()\n",
    "        # Make a dictionary (based on the variables that exist in current instance)\n",
    "        base_version = self.__make_version()\n",
    "        # Add mentioned variables to the dictionary\n",
    "        new_version = self.__expand_version(base_version, pars)\n",
    "        # Append the version to end of our history (current version is the last as we have deleted the remaining part's of history)\n",
    "        self.history.append(new_version)\n",
    "        # Change the version and update the class parameters\n",
    "        self.__change_version(self.version_num, self.version_num+1)\n",
    "        \n",
    "    def undo(self):\n",
    "        if self.version_num == 0:\n",
    "            raise Exception(\"First checkpoint!\")\n",
    "        self.__change_version(self.version_num, self.version_num-1)\n",
    "    \n",
    "    def redo(self):\n",
    "        if self.version_num+1 == len(self.history):\n",
    "            raise Exception(\"Last checkpoint!\")\n",
    "        self.__change_version(self.version_num, self.version_num+1)\n",
    "    \n",
    "    def print_versions(self):\n",
    "        for i in range(len(self.history)):\n",
    "            if i == self.version_num: print('+', end='')\n",
    "            print('version {}: {}'.format(i, self.history[i]))\n",
    "    \n",
    "    def __make_version(self):\n",
    "        base_version = {}\n",
    "        \n",
    "        for key in vars(self):\n",
    "            if key not in {'version_num', 'history'} :\n",
    "                att = getattr(self, key)\n",
    "                if hasattr(att, 'copy'): att = att.copy()\n",
    "                base_version[key] = att\n",
    "                \n",
    "        return base_version\n",
    "    \n",
    "    def __expand_version(self, base_version, pars):\n",
    "        new_version = base_version\n",
    "        \n",
    "        for key in pars:\n",
    "            value = pars[key]\n",
    "            if hasattr(value, 'copy'): value = value.copy()\n",
    "            new_version[key] = value\n",
    "            \n",
    "        return new_version\n",
    "        \n",
    "            \n",
    "    def __change_version(self, base_version_num, version_num):\n",
    "        for key in self.history[base_version_num]:\n",
    "            if key not in self.history[version_num]:\n",
    "                delattr(self, key)\n",
    "                \n",
    "        for key in self.history[version_num]:\n",
    "            value = self.history[version_num][key]\n",
    "            setattr(self, key, value)\n",
    "            \n",
    "        self.version_num = version_num\n"
   ]
  },
  {
   "cell_type": "code",
   "execution_count": 103,
   "id": "1b1159a2",
   "metadata": {},
   "outputs": [
    {
     "name": "stdout",
     "output_type": "stream",
     "text": [
      "version 0: {}\n",
      "version 1: {'a': 10}\n",
      "+version 2: {'a': 20}\n"
     ]
    }
   ],
   "source": [
    "cph = CheckPointHandler(a=10)\n",
    "cph.a = 20\n",
    "cph.make_check_point()\n",
    "cph.print_versions()"
   ]
  },
  {
   "cell_type": "code",
   "execution_count": 105,
   "id": "0ba479e8",
   "metadata": {},
   "outputs": [
    {
     "name": "stdout",
     "output_type": "stream",
     "text": [
      "version 0: {}\n",
      "version 1: {'a': 10}\n",
      "version 2: {'a': 20}\n",
      "version 3: {'a': 1, 'b': 20}\n",
      "+version 4: {'a': 1, 'b': 20, 'c': -1, 'd': -2}\n"
     ]
    }
   ],
   "source": [
    "cph.add_vars(a=1,b=20)\n",
    "cph.add_vars(c=-1,d=-2)\n",
    "cph.print_versions()"
   ]
  },
  {
   "cell_type": "code",
   "execution_count": 106,
   "id": "839f846c",
   "metadata": {},
   "outputs": [
    {
     "name": "stdout",
     "output_type": "stream",
     "text": [
      "version 0: {}\n",
      "version 1: {'a': 10}\n",
      "version 2: {'a': 20}\n",
      "+version 3: {'a': 1, 'b': 20}\n",
      "version 4: {'a': 1, 'b': 20, 'c': -1, 'd': -2}\n"
     ]
    }
   ],
   "source": [
    "cph.undo()\n",
    "cph.print_versions()"
   ]
  },
  {
   "cell_type": "code",
   "execution_count": 107,
   "id": "7d230bc7",
   "metadata": {},
   "outputs": [
    {
     "name": "stdout",
     "output_type": "stream",
     "text": [
      "1 20\n"
     ]
    }
   ],
   "source": [
    "print(cph.a, cph.b)"
   ]
  },
  {
   "cell_type": "code",
   "execution_count": 108,
   "id": "cd85a469",
   "metadata": {},
   "outputs": [
    {
     "ename": "AttributeError",
     "evalue": "'CheckPointHandler' object has no attribute 'c'",
     "output_type": "error",
     "traceback": [
      "\u001b[1;31m---------------------------------------------------------------------------\u001b[0m",
      "\u001b[1;31mAttributeError\u001b[0m                            Traceback (most recent call last)",
      "\u001b[1;32m~\\AppData\\Local\\Temp/ipykernel_11544/2639199173.py\u001b[0m in \u001b[0;36m<module>\u001b[1;34m\u001b[0m\n\u001b[1;32m----> 1\u001b[1;33m \u001b[0mprint\u001b[0m\u001b[1;33m(\u001b[0m\u001b[0mcph\u001b[0m\u001b[1;33m.\u001b[0m\u001b[0mc\u001b[0m\u001b[1;33m,\u001b[0m \u001b[0mcph\u001b[0m\u001b[1;33m.\u001b[0m\u001b[0md\u001b[0m\u001b[1;33m)\u001b[0m\u001b[1;33m\u001b[0m\u001b[1;33m\u001b[0m\u001b[0m\n\u001b[0m",
      "\u001b[1;31mAttributeError\u001b[0m: 'CheckPointHandler' object has no attribute 'c'"
     ]
    }
   ],
   "source": [
    "print(cph.c, cph.d)"
   ]
  },
  {
   "cell_type": "code",
   "execution_count": 109,
   "id": "1a2b5b12",
   "metadata": {},
   "outputs": [
    {
     "name": "stdout",
     "output_type": "stream",
     "text": [
      "version 0: {}\n",
      "version 1: {'a': 10}\n",
      "version 2: {'a': 20}\n",
      "version 3: {'a': 1, 'b': 20}\n",
      "+version 4: {'a': 1, 'b': 20, 'c': -1, 'd': -2}\n"
     ]
    }
   ],
   "source": [
    "cph.redo()\n",
    "cph.print_versions()"
   ]
  },
  {
   "cell_type": "code",
   "execution_count": 110,
   "id": "62e94499",
   "metadata": {},
   "outputs": [
    {
     "name": "stdout",
     "output_type": "stream",
     "text": [
      "1 20 -1 -2\n"
     ]
    }
   ],
   "source": [
    "print(cph.a, cph.b, cph.c, cph.d)"
   ]
  },
  {
   "cell_type": "code",
   "execution_count": null,
   "id": "06b31da9",
   "metadata": {},
   "outputs": [],
   "source": []
  }
 ],
 "metadata": {
  "kernelspec": {
   "display_name": "Python 3 (ipykernel)",
   "language": "python",
   "name": "python3"
  },
  "language_info": {
   "codemirror_mode": {
    "name": "ipython",
    "version": 3
   },
   "file_extension": ".py",
   "mimetype": "text/x-python",
   "name": "python",
   "nbconvert_exporter": "python",
   "pygments_lexer": "ipython3",
   "version": "3.9.7"
  }
 },
 "nbformat": 4,
 "nbformat_minor": 5
}
